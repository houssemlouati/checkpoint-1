{
 "cells": [
  {
   "cell_type": "code",
   "execution_count": 44,
   "metadata": {},
   "outputs": [
    {
     "name": "stdout",
     "output_type": "stream",
     "text": [
      "2002  2009  2016  2023  2037  2044  2051  2058  2072  2079  2086  2093  2107  2114  2121  2128  2142  2149  2156  2163  2177  2184  2191  2198  2212  2219  2226  2233  2247  2254  2261  2268  2282  2289  2296  2303  2317  2324  2331  2338  2352  2359  2366  2373  2387  2394  2401  2408  2422  2429  2436  2443  2457  2464  2471  2478  2492  2499  2506  2513  2527  2534  2541  2548  2562  2569  2576  2583  2597  2604  2611  2618  2632  2639  2646  2653  2667  2674  2681  2688  2702  2709  2716  2723  2737  2744  2751  2758  2772  2779  2786  2793  2807  2814  2821  2828  2842  2849  2856  2863  2877  2884  2891  2898  2912  2919  2926  2933  2947  2954  2961  2968  2982  2989  2996  3003  3017  3024  3031  3038  3052  3059  3066  3073  3087  3094  3101  3108  3122  3129  3136  3143  3157  3164  3171  3178  3192  3199  "
     ]
    }
   ],
   "source": [
    "for x in range (2000,3201):\n",
    "    if (x%7)==0 and (x%5)!=0:\n",
    "        print(x, end='  '),\n",
    "        \n",
    "    "
   ]
  },
  {
   "cell_type": "code",
   "execution_count": 56,
   "metadata": {},
   "outputs": [
    {
     "name": "stdout",
     "output_type": "stream",
     "text": [
      "5\n",
      "120"
     ]
    }
   ],
   "source": [
    "n=int(input())\n",
    "k=1\n",
    "for i in range(1,n+1): \n",
    "    k = k * i \n",
    "print (k ,end='')"
   ]
  },
  {
   "cell_type": "code",
   "execution_count": 73,
   "metadata": {},
   "outputs": [
    {
     "name": "stdout",
     "output_type": "stream",
     "text": [
      "donner une valeur8\n",
      "{1: 1, 2: 4, 3: 9, 4: 16, 5: 25, 6: 36, 7: 49, 8: 64}\n"
     ]
    }
   ],
   "source": [
    "k=int(input(\"donner une valeur\"))\n",
    "dict={}\n",
    "for i in range (1,k+1):\n",
    "    \n",
    "    dict[i]=i*i\n",
    "print(dict)"
   ]
  },
  {
   "cell_type": "code",
   "execution_count": 29,
   "metadata": {},
   "outputs": [
    {
     "name": "stdout",
     "output_type": "stream",
     "text": [
      "50\n"
     ]
    }
   ],
   "source": [
    "def  missing_char(s,n):\n",
    "    s=input(\"donner une chaine \")\n",
    "    n=int(input(\"donner une valeur \"))\n",
    "    for n in range (0,len(s)+1):\n",
    "        s=s.replace(s[n],'')\n",
    "print(s)"
   ]
  },
  {
   "cell_type": "code",
   "execution_count": 30,
   "metadata": {},
   "outputs": [
    {
     "name": "stdout",
     "output_type": "stream",
     "text": [
      "[[6 1]\n",
      " [2 2]\n",
      " [8 2]]\n",
      "[[6, 1], [2, 2], [8, 2]]\n"
     ]
    }
   ],
   "source": [
    "import numpy as np  \n",
    "array=np.random.randint(1,10, size=(3,2))\n",
    "l=array.tolist()\n",
    "print(array)\n",
    "print(l)"
   ]
  },
  {
   "cell_type": "code",
   "execution_count": 31,
   "metadata": {},
   "outputs": [
    {
     "name": "stdout",
     "output_type": "stream",
     "text": [
      "[[7 6 1]]\n",
      "[[8 2 1]]\n",
      "[[10.33333333  8.83333333]\n",
      " [ 8.83333333 14.33333333]]\n"
     ]
    }
   ],
   "source": [
    "import numpy as np  \n",
    "array=np.random.randint(1,10, size=(1,3))\n",
    "array1=np.random.randint(1,10, size=(1,3))\n",
    "np.cov(array,array1)\n",
    "print(array)\n",
    "print(array1)\n",
    "print(np.cov(array,array1))"
   ]
  },
  {
   "cell_type": "code",
   "execution_count": 20,
   "metadata": {},
   "outputs": [
    {
     "name": "stdout",
     "output_type": "stream",
     "text": [
      "donner une chaine50\n",
      "13,"
     ]
    }
   ],
   "source": [
    "from math import *\n",
    "s=input(\"donner une chaine\")\n",
    "l=s.split(',')\n",
    "for i in range (0,len(l)):\n",
    "    l[i]=int(l[i])\n",
    "for i in range (0,len(l)):\n",
    "    l[i]=sqrt((l[i]*2*50)/30)\n",
    "    print(round(l[i]),end=',')"
   ]
  },
  {
   "cell_type": "code",
   "execution_count": null,
   "metadata": {},
   "outputs": [],
   "source": []
  }
 ],
 "metadata": {
  "kernelspec": {
   "display_name": "Python 3",
   "language": "python",
   "name": "python3"
  },
  "language_info": {
   "codemirror_mode": {
    "name": "ipython",
    "version": 3
   },
   "file_extension": ".py",
   "mimetype": "text/x-python",
   "name": "python",
   "nbconvert_exporter": "python",
   "pygments_lexer": "ipython3",
   "version": "3.7.6"
  }
 },
 "nbformat": 4,
 "nbformat_minor": 4
}
